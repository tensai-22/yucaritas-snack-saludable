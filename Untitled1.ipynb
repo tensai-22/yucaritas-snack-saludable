{
 "cells": [
  {
   "cell_type": "code",
   "execution_count": 1,
   "id": "0e30894c",
   "metadata": {},
   "outputs": [
    {
     "name": "stdout",
     "output_type": "stream",
     "text": [
      "Collecting rembg\n",
      "  Downloading rembg-2.0.59-py3-none-any.whl.metadata (17 kB)\n",
      "Requirement already satisfied: jsonschema in c:\\users\\user\\anaconda3\\lib\\site-packages (from rembg) (4.19.2)\n",
      "Requirement already satisfied: numpy in c:\\users\\user\\anaconda3\\lib\\site-packages (from rembg) (1.26.4)\n",
      "Collecting onnxruntime (from rembg)\n",
      "  Downloading onnxruntime-1.19.2-cp311-cp311-win_amd64.whl.metadata (4.7 kB)\n",
      "Collecting opencv-python-headless (from rembg)\n",
      "  Downloading opencv_python_headless-4.10.0.84-cp37-abi3-win_amd64.whl.metadata (20 kB)\n",
      "Requirement already satisfied: pillow in c:\\users\\user\\anaconda3\\lib\\site-packages (from rembg) (10.2.0)\n",
      "Collecting pooch (from rembg)\n",
      "  Downloading pooch-1.8.2-py3-none-any.whl.metadata (10 kB)\n",
      "Collecting pymatting (from rembg)\n",
      "  Downloading PyMatting-1.1.12-py3-none-any.whl.metadata (7.4 kB)\n",
      "Requirement already satisfied: scikit-image in c:\\users\\user\\anaconda3\\lib\\site-packages (from rembg) (0.22.0)\n",
      "Requirement already satisfied: scipy in c:\\users\\user\\anaconda3\\lib\\site-packages (from rembg) (1.11.4)\n",
      "Requirement already satisfied: tqdm in c:\\users\\user\\anaconda3\\lib\\site-packages (from rembg) (4.65.0)\n",
      "Requirement already satisfied: attrs>=22.2.0 in c:\\users\\user\\anaconda3\\lib\\site-packages (from jsonschema->rembg) (23.1.0)\n",
      "Requirement already satisfied: jsonschema-specifications>=2023.03.6 in c:\\users\\user\\anaconda3\\lib\\site-packages (from jsonschema->rembg) (2023.7.1)\n",
      "Requirement already satisfied: referencing>=0.28.4 in c:\\users\\user\\anaconda3\\lib\\site-packages (from jsonschema->rembg) (0.30.2)\n",
      "Requirement already satisfied: rpds-py>=0.7.1 in c:\\users\\user\\anaconda3\\lib\\site-packages (from jsonschema->rembg) (0.10.6)\n",
      "Collecting coloredlogs (from onnxruntime->rembg)\n",
      "  Downloading coloredlogs-15.0.1-py2.py3-none-any.whl.metadata (12 kB)\n",
      "Collecting flatbuffers (from onnxruntime->rembg)\n",
      "  Downloading flatbuffers-24.3.25-py2.py3-none-any.whl.metadata (850 bytes)\n",
      "Requirement already satisfied: packaging in c:\\users\\user\\anaconda3\\lib\\site-packages (from onnxruntime->rembg) (23.1)\n",
      "Requirement already satisfied: protobuf in c:\\users\\user\\anaconda3\\lib\\site-packages (from onnxruntime->rembg) (3.20.3)\n",
      "Requirement already satisfied: sympy in c:\\users\\user\\anaconda3\\lib\\site-packages (from onnxruntime->rembg) (1.12)\n",
      "Requirement already satisfied: platformdirs>=2.5.0 in c:\\users\\user\\anaconda3\\lib\\site-packages (from pooch->rembg) (3.10.0)\n",
      "Requirement already satisfied: requests>=2.19.0 in c:\\users\\user\\anaconda3\\lib\\site-packages (from pooch->rembg) (2.31.0)\n",
      "Requirement already satisfied: numba!=0.49.0 in c:\\users\\user\\anaconda3\\lib\\site-packages (from pymatting->rembg) (0.59.0)\n",
      "Requirement already satisfied: networkx>=2.8 in c:\\users\\user\\anaconda3\\lib\\site-packages (from scikit-image->rembg) (3.1)\n",
      "Requirement already satisfied: imageio>=2.27 in c:\\users\\user\\anaconda3\\lib\\site-packages (from scikit-image->rembg) (2.33.1)\n",
      "Requirement already satisfied: tifffile>=2022.8.12 in c:\\users\\user\\anaconda3\\lib\\site-packages (from scikit-image->rembg) (2023.4.12)\n",
      "Requirement already satisfied: lazy_loader>=0.3 in c:\\users\\user\\anaconda3\\lib\\site-packages (from scikit-image->rembg) (0.3)\n",
      "Requirement already satisfied: colorama in c:\\users\\user\\anaconda3\\lib\\site-packages (from tqdm->rembg) (0.4.6)\n",
      "Requirement already satisfied: llvmlite<0.43,>=0.42.0dev0 in c:\\users\\user\\anaconda3\\lib\\site-packages (from numba!=0.49.0->pymatting->rembg) (0.42.0)\n",
      "Requirement already satisfied: charset-normalizer<4,>=2 in c:\\users\\user\\anaconda3\\lib\\site-packages (from requests>=2.19.0->pooch->rembg) (2.0.4)\n",
      "Requirement already satisfied: idna<4,>=2.5 in c:\\users\\user\\anaconda3\\lib\\site-packages (from requests>=2.19.0->pooch->rembg) (3.4)\n",
      "Requirement already satisfied: urllib3<3,>=1.21.1 in c:\\users\\user\\anaconda3\\lib\\site-packages (from requests>=2.19.0->pooch->rembg) (2.0.7)\n",
      "Requirement already satisfied: certifi>=2017.4.17 in c:\\users\\user\\anaconda3\\lib\\site-packages (from requests>=2.19.0->pooch->rembg) (2024.2.2)\n",
      "Collecting humanfriendly>=9.1 (from coloredlogs->onnxruntime->rembg)\n",
      "  Downloading humanfriendly-10.0-py2.py3-none-any.whl.metadata (9.2 kB)\n",
      "Requirement already satisfied: mpmath>=0.19 in c:\\users\\user\\anaconda3\\lib\\site-packages (from sympy->onnxruntime->rembg) (1.3.0)\n",
      "Collecting pyreadline3 (from humanfriendly>=9.1->coloredlogs->onnxruntime->rembg)\n",
      "  Downloading pyreadline3-3.5.4-py3-none-any.whl.metadata (4.7 kB)\n",
      "Downloading rembg-2.0.59-py3-none-any.whl (39 kB)\n",
      "Downloading onnxruntime-1.19.2-cp311-cp311-win_amd64.whl (11.1 MB)\n",
      "   ---------------------------------------- 0.0/11.1 MB ? eta -:--:--\n",
      "   -- ------------------------------------- 0.7/11.1 MB 14.9 MB/s eta 0:00:01\n",
      "   --------- ------------------------------ 2.5/11.1 MB 27.1 MB/s eta 0:00:01\n",
      "   ------------------ --------------------- 5.2/11.1 MB 37.3 MB/s eta 0:00:01\n",
      "   ----------------------------- ---------- 8.0/11.1 MB 47.0 MB/s eta 0:00:01\n",
      "   ---------------------------------------  11.1/11.1 MB 59.5 MB/s eta 0:00:01\n",
      "   ---------------------------------------- 11.1/11.1 MB 54.4 MB/s eta 0:00:00\n",
      "Downloading opencv_python_headless-4.10.0.84-cp37-abi3-win_amd64.whl (38.8 MB)\n",
      "   ---------------------------------------- 0.0/38.8 MB ? eta -:--:--\n",
      "   -- ------------------------------------- 2.0/38.8 MB 65.1 MB/s eta 0:00:01\n",
      "   ----- ---------------------------------- 5.4/38.8 MB 69.7 MB/s eta 0:00:01\n",
      "   ---------- ----------------------------- 9.9/38.8 MB 78.8 MB/s eta 0:00:01\n",
      "   ------------ --------------------------- 12.5/38.8 MB 72.6 MB/s eta 0:00:01\n",
      "   ---------------- ----------------------- 15.6/38.8 MB 72.6 MB/s eta 0:00:01\n",
      "   ------------------ --------------------- 18.3/38.8 MB 65.6 MB/s eta 0:00:01\n",
      "   ---------------------- ----------------- 21.4/38.8 MB 72.6 MB/s eta 0:00:01\n",
      "   ------------------------ --------------- 23.5/38.8 MB 59.5 MB/s eta 0:00:01\n",
      "   ---------------------------- ----------- 27.4/38.8 MB 65.6 MB/s eta 0:00:01\n",
      "   ------------------------------- -------- 30.4/38.8 MB 65.2 MB/s eta 0:00:01\n",
      "   --------------------------------- ------ 32.4/38.8 MB 59.5 MB/s eta 0:00:01\n",
      "   ------------------------------------ --- 35.7/38.8 MB 72.6 MB/s eta 0:00:01\n",
      "   ---------------------------------------  38.6/38.8 MB 65.2 MB/s eta 0:00:01\n",
      "   ---------------------------------------  38.7/38.8 MB 72.6 MB/s eta 0:00:01\n",
      "   ---------------------------------------- 38.8/38.8 MB 46.7 MB/s eta 0:00:00\n",
      "Downloading pooch-1.8.2-py3-none-any.whl (64 kB)\n",
      "   ---------------------------------------- 0.0/64.6 kB ? eta -:--:--\n",
      "   ---------------------------------------- 64.6/64.6 kB ? eta 0:00:00\n",
      "Downloading PyMatting-1.1.12-py3-none-any.whl (52 kB)\n",
      "   ---------------------------------------- 0.0/53.0 kB ? eta -:--:--\n",
      "   ---------------------------------------- 53.0/53.0 kB ? eta 0:00:00\n",
      "Downloading coloredlogs-15.0.1-py2.py3-none-any.whl (46 kB)\n",
      "   ---------------------------------------- 0.0/46.0 kB ? eta -:--:--\n",
      "   ---------------------------------------- 46.0/46.0 kB ? eta 0:00:00\n",
      "Downloading flatbuffers-24.3.25-py2.py3-none-any.whl (26 kB)\n",
      "Downloading humanfriendly-10.0-py2.py3-none-any.whl (86 kB)\n",
      "   ---------------------------------------- 0.0/86.8 kB ? eta -:--:--\n",
      "   ---------------------------------------- 86.8/86.8 kB ? eta 0:00:00\n",
      "Downloading pyreadline3-3.5.4-py3-none-any.whl (83 kB)\n",
      "   ---------------------------------------- 0.0/83.2 kB ? eta -:--:--\n",
      "   ---------------------------------------- 83.2/83.2 kB ? eta 0:00:00\n",
      "Installing collected packages: flatbuffers, pyreadline3, opencv-python-headless, pymatting, pooch, humanfriendly, coloredlogs, onnxruntime, rembg\n",
      "Successfully installed coloredlogs-15.0.1 flatbuffers-24.3.25 humanfriendly-10.0 onnxruntime-1.19.2 opencv-python-headless-4.10.0.84 pooch-1.8.2 pymatting-1.1.12 pyreadline3-3.5.4 rembg-2.0.59\n",
      "Note: you may need to restart the kernel to use updated packages.\n"
     ]
    }
   ],
   "source": [
    "pip install rembg\n"
   ]
  },
  {
   "cell_type": "code",
   "execution_count": 2,
   "id": "3b158b4f",
   "metadata": {},
   "outputs": [
    {
     "name": "stderr",
     "output_type": "stream",
     "text": [
      "C:\\Users\\user\\anaconda3\\Lib\\site-packages\\paramiko\\transport.py:219: CryptographyDeprecationWarning: Blowfish has been deprecated and will be removed in a future release\n",
      "  \"class\": algorithms.Blowfish,\n",
      "Downloading data from 'https://github.com/danielgatis/rembg/releases/download/v0.0.0/u2net.onnx' to file 'C:\\Users\\user\\.u2net\\u2net.onnx'.\n",
      "100%|###############################################| 176M/176M [00:00<?, ?B/s]\n"
     ]
    },
    {
     "name": "stdout",
     "output_type": "stream",
     "text": [
      "Imagen sin fondo guardada en C:/Users/user/Desktop/yucaritas/images/imagen_sin_fondo.png\n"
     ]
    }
   ],
   "source": [
    "from rembg import remove\n",
    "from PIL import Image\n",
    "import io\n",
    "\n",
    "# Ruta de la imagen de entrada y salida\n",
    "input_path = r\"C:/Users/user/Desktop/yucaritas/images/WhatsApp Image 2024-09-21 at 21.38.12.jpeg\"\n",
    "output_path = r\"C:/Users/user/Desktop/yucaritas/images/imagen_sin_fondo.png\"\n",
    "\n",
    "# Leer la imagen de entrada\n",
    "with open(input_path, 'rb') as input_file:\n",
    "    input_data = input_file.read()\n",
    "\n",
    "# Eliminar el fondo de la imagen\n",
    "result = remove(input_data)\n",
    "\n",
    "# Guardar la imagen resultante con el fondo eliminado\n",
    "with open(output_path, 'wb') as output_file:\n",
    "    output_file.write(result)\n",
    "\n",
    "print(f\"Imagen sin fondo guardada en {output_path}\")\n"
   ]
  },
  {
   "cell_type": "code",
   "execution_count": null,
   "id": "ece53519",
   "metadata": {},
   "outputs": [],
   "source": []
  }
 ],
 "metadata": {
  "kernelspec": {
   "display_name": "Python 3 (ipykernel)",
   "language": "python",
   "name": "python3"
  },
  "language_info": {
   "codemirror_mode": {
    "name": "ipython",
    "version": 3
   },
   "file_extension": ".py",
   "mimetype": "text/x-python",
   "name": "python",
   "nbconvert_exporter": "python",
   "pygments_lexer": "ipython3",
   "version": "3.11.7"
  }
 },
 "nbformat": 4,
 "nbformat_minor": 5
}
